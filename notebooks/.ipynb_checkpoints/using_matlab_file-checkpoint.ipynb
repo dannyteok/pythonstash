{
 "cells": [
  {
   "cell_type": "code",
   "execution_count": 6,
   "metadata": {
    "collapsed": false
   },
   "outputs": [
    {
     "name": "stdout",
     "output_type": "stream",
     "text": [
      "Initiating...\n",
      " Python Power On-line.\n"
     ]
    }
   ],
   "source": [
    "import os\n",
    "import scipy.io\n",
    "import matplotlib.pyplot as plt\n",
    "import numpy as  np"
   ]
  },
  {
   "cell_type": "code",
   "execution_count": 32,
   "metadata": {
    "collapsed": false
   },
   "outputs": [
    {
     "name": "stdout",
     "output_type": "stream",
     "text": [
      "The dictionary key: __header__ is of: <class 'bytes'>\n",
      "The dictionary key: __version__ is of: <class 'str'>\n",
      "The dictionary key: __globals__ is of: <class 'list'>\n",
      "The dictionary key: rfpCyt is of: <class 'numpy.ndarray'>\n",
      "The dictionary key: rfpNuc is of: <class 'numpy.ndarray'>\n",
      "The dictionary key: cfpNuc is of: <class 'numpy.ndarray'>\n",
      "The dictionary key: cfpCyt is of: <class 'numpy.ndarray'>\n",
      "The dictionary key: yfpNuc is of: <class 'numpy.ndarray'>\n",
      "The dictionary key: yfpCyt is of: <class 'numpy.ndarray'>\n",
      "The dictionary key: CYratioCyt is of: <class 'numpy.ndarray'>\n"
     ]
    }
   ],
   "source": [
    "# Get current dir path: print(os.getcwd())\n",
    "\n",
    "file = '../data/ASCBworkshopData/data2.mat'\n",
    "mat = scipy.io.loadmat(file)\n",
    "\n",
    "#print(mat.keys())\n",
    "#print(type(mat['rfpCyt']))\n",
    "\n",
    "for key, value in mat.items():\n",
    "    print(\"The dictionary key: \" + key + \" is of: \" + str(type(value)) )"
   ]
  },
  {
   "cell_type": "code",
   "execution_count": 46,
   "metadata": {
    "collapsed": false
   },
   "outputs": [
    {
     "name": "stdout",
     "output_type": "stream",
     "text": [
      "The numpy shape of rfpCyt: (200, 137)\n",
      "The numpy shape of rfpNuc: (200, 137)\n",
      "The numpy shape of cfpNuc: (200, 137)\n",
      "The numpy shape of cfpCyt: (200, 137)\n",
      "The numpy shape of yfpNuc: (200, 137)\n",
      "The numpy shape of yfpCyt: (200, 137)\n",
      "The numpy shape of CYratioCyt: (200, 137)\n"
     ]
    }
   ],
   "source": [
    "print(\"The numpy shape of rfpCyt: \" + str(np.shape(mat['rfpCyt'])) )\n",
    "print(\"The numpy shape of rfpNuc: \" + str(np.shape(mat['rfpNuc'])) )\n",
    "print(\"The numpy shape of cfpNuc: \" + str(np.shape(mat['cfpNuc'])) )\n",
    "print(\"The numpy shape of cfpCyt: \" + str(np.shape(mat['cfpCyt'])) )\n",
    "print(\"The numpy shape of yfpNuc: \" + str(np.shape(mat['yfpNuc'])) )\n",
    "print(\"The numpy shape of yfpCyt: \" + str(np.shape(mat['yfpCyt'])) )\n",
    "print(\"The numpy shape of CYratioCyt: \" + str(np.shape(mat['CYratioCyt'])) )"
   ]
  },
  {
   "cell_type": "code",
   "execution_count": 47,
   "metadata": {
    "collapsed": true
   },
   "outputs": [],
   "source": [
    "data_rfpCyt = mat['rfpCyt'][25, 5:]\n",
    "data_rfpNuc = mat['rfpNuc'][25, 5:]\n",
    "data_crfpNuc = mat['rfpNuc'][25, 5:]\n",
    "data_cfpCyt = mat['cfpCyt'][25, 5:]\n",
    "data_yfpNuc = mat['yfpNuc'][25, 5:]\n",
    "data_yfpCyt = mat['yfpCyt'][25, 5:]\n",
    "data_cyratiocyt = mat['CYratioCyt'][25, 5:]"
   ]
  },
  {
   "cell_type": "code",
   "execution_count": 54,
   "metadata": {
    "collapsed": false
   },
   "outputs": [
    {
     "data": {
      "image/png": "[encoded data removed]",
      "text/plain": [
       "<matplotlib.figure.Figure at 0x7f7177277400>"
      ]
     },
     "metadata": {},
     "output_type": "display_data"
    }
   ],
   "source": [
    "#fig = plt.figure()\n",
    "plt.plot(data_cfpCyt)\n",
    "plt.xlabel('time (minutes)')\n",
    "plt.ylabel('normalized something')\n",
    "\n",
    "plt.show()\n"
   ]
  }
 ],
 "metadata": {
  "kernelspec": {
   "display_name": "Python 3",
   "language": "python",
   "name": "python3"
  },
  "language_info": {
   "codemirror_mode": {
    "name": "ipython",
    "version": 3
   },
   "file_extension": ".py",
   "mimetype": "text/x-python",
   "name": "python",
   "nbconvert_exporter": "python",
   "pygments_lexer": "ipython3",
   "version": "3.6.1"
  }
 },
 "nbformat": 4,
 "nbformat_minor": 2
}
