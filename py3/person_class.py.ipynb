{
 "cells": [
  {
   "cell_type": "code",
   "execution_count": 30,
   "metadata": {
    "collapsed": false
   },
   "outputs": [],
   "source": [
    "class Person:\n",
    "    def __init__(self, fullname, age, salary, job=None):\n",
    "        self.fullname = fullname\n",
    "        self.age = age\n",
    "        self.salary = salary\n",
    "        self.job = job\n",
    "    \n",
    "    def lastName(self):\n",
    "        return self.fullname.split()[-1]\n",
    "    \n",
    "    def firstName(self):\n",
    "        return self.fullname.split()[0]\n",
    "    \n",
    "    def giveRaise(self, percent):\n",
    "        self.salary *= (1.0 + percent)\n",
    "        \n",
    "if __name__ == '__main__':\n",
    "    dan = Person('Danny Teok', 38, 68250, 'Software Engineer')\n",
    "    fei = Person('Fei Huang', 36, 47000, 'Procurement Manager')\n",
    "    eric = Person('Eric Zechary Teok', 4, 1200, 'Student')\n",
    "    ethan = Person('Ethan Daniel Teok', 1, 1200, 'Student')    "
   ]
  },
  {
   "cell_type": "code",
   "execution_count": 26,
   "metadata": {
    "collapsed": false,
    "scrolled": true
   },
   "outputs": [
    {
     "name": "stdout",
     "output_type": "stream",
     "text": [
      "Danny Teok is a Software Engineer and has two boys, Eric Zechary Teok and Ethan Daniel Teok , and the most beautiful and smart wife, Fei Huang\n",
      "We are the Teok family!\n",
      "Danny is on 68250 a year but would like a 28% pay rise to None 87360.0 per year."
     ]
    }
   ],
   "source": [
    "print(dan.fullname, 'is a', dan.job, 'and has two boys,', eric.fullname, 'and', ethan.fullname, ', and the most beautiful and smart wife,', fei.fullname)\n",
    "print('We are the', dan.lastName(), 'family!')\n",
    "\n",
    "print(dan.firstName(),'is on',dan.salary,'a year but would like a 28% pay rise to', \n",
    "      dan.giveRaise(.28),\n",
    "      dan.salary, 'per year.',end=\"\")"
   ]
  },
  {
   "cell_type": "code",
   "execution_count": null,
   "metadata": {
    "collapsed": true
   },
   "outputs": [],
   "source": []
  },
  {
   "cell_type": "code",
   "execution_count": null,
   "metadata": {
    "collapsed": true
   },
   "outputs": [],
   "source": []
  }
 ],
 "metadata": {
  "kernelspec": {
   "display_name": "Python 3",
   "language": "python",
   "name": "python3"
  },
  "language_info": {
   "codemirror_mode": {
    "name": "ipython",
    "version": 3
   },
   "file_extension": ".py",
   "mimetype": "text/x-python",
   "name": "python",
   "nbconvert_exporter": "python",
   "pygments_lexer": "ipython3",
   "version": "3.6.1"
  }
 },
 "nbformat": 4,
 "nbformat_minor": 2
}
